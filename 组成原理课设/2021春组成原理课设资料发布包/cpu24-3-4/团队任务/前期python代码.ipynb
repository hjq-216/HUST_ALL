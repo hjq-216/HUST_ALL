{
 "cells": [
  {
   "cell_type": "code",
   "execution_count": 53,
   "metadata": {},
   "outputs": [],
   "source": [
    "from sklearn.datasets import fetch_openml\n",
    "mnist = fetch_openml('mnist_784')"
   ]
  },
  {
   "cell_type": "code",
   "execution_count": 54,
   "metadata": {},
   "outputs": [],
   "source": [
    "from sklearn.svm import SVC\n",
    "from sklearn.model_selection import train_test_split\n",
    "import numpy as np\n",
    "from sklearn.svm import LinearSVC\n",
    "import matplotlib.pyplot as plt"
   ]
  },
  {
   "cell_type": "code",
   "execution_count": 55,
   "metadata": {},
   "outputs": [],
   "source": [
    "X = mnist.data\n",
    "y = mnist.target\n",
    "X_train,X_test,y_train,y_test = train_test_split((X != 0), y,test_size=0.2,random_state=0)\n",
    "# X_train,X_test,y_train,y_test = X[:6000] != 0, X[6000:7000] != 0, y[:6000], y[6000:7000]"
   ]
  },
  {
   "cell_type": "code",
   "execution_count": 56,
   "metadata": {},
   "outputs": [],
   "source": [
    "clf = LinearSVC(C=0.00001)"
   ]
  },
  {
   "cell_type": "code",
   "execution_count": 57,
   "metadata": {},
   "outputs": [
    {
     "data": {
      "text/plain": [
       "0.8387857142857142"
      ]
     },
     "execution_count": 57,
     "metadata": {},
     "output_type": "execute_result"
    }
   ],
   "source": [
    "clf.fit(X_train, y_train)\n",
    "clf.score(X_test, y_test)"
   ]
  },
  {
   "cell_type": "code",
   "execution_count": 58,
   "metadata": {},
   "outputs": [],
   "source": [
    "temp2 = clf.intercept_"
   ]
  },
  {
   "cell_type": "code",
   "execution_count": 61,
   "metadata": {},
   "outputs": [],
   "source": [
    "temp2 *= 1000"
   ]
  },
  {
   "cell_type": "code",
   "execution_count": 63,
   "metadata": {},
   "outputs": [],
   "source": [
    "temp = clf.coef_"
   ]
  },
  {
   "cell_type": "code",
   "execution_count": 64,
   "metadata": {},
   "outputs": [],
   "source": [
    "temp *= 1000"
   ]
  },
  {
   "cell_type": "code",
   "execution_count": 65,
   "metadata": {},
   "outputs": [],
   "source": [
    "lulala = np.array(list(map(int, temp.reshape(-1)))).reshape(10, 784)"
   ]
  },
  {
   "cell_type": "code",
   "execution_count": 19,
   "metadata": {},
   "outputs": [],
   "source": [
    "def plot_pixels(data):\n",
    "    pixels = np.reshape(data, (28,28))\n",
    "#     plt.title('Label is {label}'.format(label=mnist.target[index]))\n",
    "    plt.imshow(pixels, cmap='gray')\n",
    "    plt.show()"
   ]
  },
  {
   "cell_type": "code",
   "execution_count": 13,
   "metadata": {},
   "outputs": [
    {
     "data": {
      "image/png": "[encoded data removed]",
      "text/plain": [
       "<Figure size 432x288 with 1 Axes>"
      ]
     },
     "metadata": {
      "needs_background": "light"
     },
     "output_type": "display_data"
    }
   ],
   "source": [
    "plot_pixels(X_train[1])"
   ]
  },
  {
   "cell_type": "code",
   "execution_count": 21,
   "metadata": {},
   "outputs": [
    {
     "data": {
      "image/png": "[encoded data removed]",
      "text/plain": [
       "<Figure size 432x288 with 1 Axes>"
      ]
     },
     "metadata": {
      "needs_background": "light"
     },
     "output_type": "display_data"
    }
   ],
   "source": [
    "plot_pixels(X_train[2])"
   ]
  },
  {
   "cell_type": "code",
   "execution_count": 71,
   "metadata": {},
   "outputs": [
    {
     "name": "stdout",
     "output_type": "stream",
     "text": [
      "[ -964 -1378 -1331 -1509   114  -720  -886  -583  -646  -634]\n",
      "[-1174  -384  -956  -718  -842  -884  -944  -108  -576  -371]\n",
      "[-1084  -766  -528  -761  -719  -719   462 -1052  -724  -850]\n",
      "[-954 -543 -642 -865 -503 -632 -815 -521   28 -545]\n",
      "[ -631 -1014 -1343  -847  -742   -98  -703  -834  -506  -349]\n",
      "[-1166   152  -555  -704  -685  -936  -995  -715  -422  -794]\n",
      "[-1027  -897  -937 -1233  -516  -833  -942  -616  -550  -316]\n",
      "[-1051 -1231 -1155 -1519 -1029  -901  -211 -1476 -1247 -1020]\n",
      "[-1515  -564  -802  -821  -887 -1071 -1144  -691  -754  -341]\n",
      "[-1336  -798 -1177  -695  -815  -674  -904  -606  -695  -238]\n",
      "[-1142 -1215    94  -786 -1620 -1370 -1214 -1674  -763 -1509]\n",
      "[-1174 -1007 -1011 -1067  -645  -741 -1044  -721  -438  -259]\n",
      "[-1031 -1445  -955 -1249   272  -858  -753 -1016  -607  -538]\n",
      "[-596  275 -459 -343 -556 -458 -473 -364 -441 -363]\n",
      "[ -980 -1130  -818  -708  -795  -946 -1252  -905  -410  -623]\n",
      "[-1128 -1262 -1330 -1575  -973 -1050 -1277 -1257  -236  -832]\n",
      "[ -933 -1149 -1152 -1182  -916  -790 -1153    68  -693  -557]\n",
      "[-1113  -855 -1129 -1134  -998  -960 -1340   431  -733  -591]\n",
      "[ -985 -1229 -1328  -933  -704   -98 -1044  -870  -812  -528]\n",
      "[-903   16 -658 -375 -930 -706 -780 -428 -715 -598]\n",
      "[ -483  -895  -715 -1347  -712  -265  -696  -886  -377  -890]\n",
      "[ -698 -1155  -445  -225  -648  -658  -881   455  -517  -300]\n",
      "[-1220  -883  -915  -586  -464  -515  -827  -812  -264  -427]\n",
      "[-1655  -857 -1108  -777  -910  -705 -1107  -977  -886  -892]\n",
      "[-1278 -1031  -398  -554  -501  -548   123  -825  -609  -615]\n",
      "[-1235  -383 -1014  -825 -1230 -1026 -1409  -809  -478 -1061]\n",
      "[-1279 -1614 -1215 -1012 -1202 -1074 -1227 -1253  -478  -899]\n",
      "[ -932 -1059  -997 -1155   158  -515  -795  -489  -543  -242]\n",
      "[-1061 -1234  -660 -1248  -145 -1166  -993  -513  -525  -342]\n",
      "[-1299 -1015 -1526 -1295  -620  -989 -1276  -926  -872  -117]\n",
      "[ -662 -1315 -1317 -1107  -716  -802 -1171   326 -1014  -371]\n",
      "[-1042 -1154    46  -717  -896  -857  -802 -1489  -683  -768]\n",
      "[-1179  -827  -955  -485 -1370  -781 -1325 -1293  -289  -998]\n",
      "[ -384 -1088  -414 -1235  -540 -1246  -545  -666  -767  -148]\n",
      "[ -792  -986  -341 -1078   206 -1179  -697  -729  -705  -498]\n",
      "[ -849   292  -427  -505 -1099  -772  -630  -840  -778  -951]\n",
      "[ -650 -1008  -457  -763  -511  -135  -964  -715  -524   -65]\n",
      "[ -924  -559  -872 -1036  -697  -238 -1081 -1324  -906 -1056]\n",
      "[-1318  -862  -843 -1219  -948 -1049   -25 -1485 -1099  -986]\n",
      "[-1712 -1136  -185  -592 -1474 -1268  -940 -1492 -1061 -1460]\n",
      "[ -868 -1387 -1533 -1144  -805  -876 -1308   239  -956  -500]\n",
      "[-855 -430 -570 -832 -352 -490 -710 -416 -548 -691]\n",
      "[-1183  -722  -266  -957 -1287 -1209  -879  -797  -620 -1060]\n",
      "[-1339  -601  -888  -559 -1238  -871  -949 -1252  -653 -1149]\n",
      "[-1075  -458   129  -611  -768  -906  -835 -1062  -284 -1371]\n",
      "[-1102 -1174  -805  -606  -902  -964 -1162   566  -849  -473]\n",
      "[-1187 -1096 -1471  -683  -712  -562  -945  -492  -839   -66]\n",
      "[-1297 -1150  -849  -814  -719  -817 -1283 -1150   133 -1019]\n",
      "[ -679  -435  -327  -380 -1622  -689  -677 -1743  -451 -1177]\n",
      "[ -470 -1130  -757   -30 -1328  -500 -1177 -1142  -583 -1215]\n",
      "[  673 -1572  -775  -979 -1265  -687  -912 -1220  -672  -876]\n",
      "[ -949 -1096 -1017  -300  -986  -593  -890 -1318  -185  -806]\n",
      "[-1386  -289   -72  -551  -705  -968  -602 -1227  -575  -702]\n",
      "[-1340 -1143  -634 -1134 -1091 -1602 -1555 -1004  -432  -902]\n",
      "[ -910 -1616  -631  -808    71  -517  -527  -961  -429  -355]\n",
      "[-1297 -1148 -1225   -37 -1087  -882 -1316 -1362  -831  -913]\n",
      "[-1246  -760  -627  -354  -514  -197  -428  -780  -384  -523]\n",
      "[ -760 -1294  -841 -1055  -674  -757   580 -1582  -697  -656]\n",
      "[ -954 -1240 -1068 -1526  -766  -914 -1124  -857  -716  -532]\n",
      "[ -715 -1145  -681  -565  -535  -733  -865   305  -621   -96]\n",
      "[-1115 -1233  -699 -1199  -320  -955  -655  -485  -685    66]\n",
      "[-1226  -992 -1180  -789 -1027  -795 -1157 -1125  -498  -893]\n",
      "[-957  429 -654 -563 -823 -769 -677 -634 -704 -626]\n",
      "[-1189  -784 -1183 -1197  -991  -942 -1274   286  -796  -477]\n",
      "[-1217 -1221 -1030 -1130  -913  -934 -1381 -1233   165 -1055]\n",
      "[ -654   -25  -431  -432 -1287  -601 -1501  -881  -827 -1270]\n",
      "[ -739 -1296  -274 -1181  -749  -991  -673  -897  -828 -1004]\n",
      "[-1481 -1044 -1297 -1154 -1168 -1177 -1719   460  -877  -812]\n",
      "[-1092  -355  -807  -630   -85  -627  -638  -746  -607  -724]\n",
      "[ -903 -1064 -1266 -1413  -167 -1106  -713  -986 -1031  -576]\n",
      "[-1177  -985  -870  -846   141  -596  -883  -441  -412  -319]\n",
      "[-1399  -587 -1208  -801  -896  -863 -1063  -588  -715  -404]\n",
      "[  243 -1440  -991 -1541  -829  -859  -706  -828 -1182  -860]\n",
      "[-802  465 -561 -548 -771 -645 -583 -692 -599 -561]\n",
      "[-1339 -1016  -631  -603  -130  -753  -839  -549  -885  -203]\n",
      "[ -876  -243  -190  -500 -1083 -1001 -1005 -1203  -241 -1174]\n",
      "[ -916 -1246 -1434 -1031   -76  -853  -945  -615 -1006  -268]\n",
      "[ -447 -1008   162 -1166 -1193  -884  -553 -1332  -849 -1364]\n",
      "[-1440  -812   174  -904  -845 -1184  -456 -1459  -966  -640]\n",
      "[-1103  -732  -722  -998  -961  -755    44 -1474 -1005 -1083]\n",
      "[-957 -717 -696 -520 -873 -691 -915  345 -659 -320]\n",
      "[-1402  -763  -918 -1060 -1014  -942   119 -1419  -939 -1068]\n",
      "[ -998  -359  -710  -779 -1224 -1075 -1487 -1134  -499 -1012]\n",
      "[-1150 -1301 -1524  -630 -1014  -472 -1445  -370  -846  -702]\n",
      "[-1167 -1063  -732 -1152    86  -927  -885  -410  -610  -426]\n",
      "[-1240 -1050  -912 -1403  -796 -1391  -951   -17  -567  -727]\n",
      "[  522 -1292 -1195  -531 -1021  -383 -1083  -853  -591  -517]\n",
      "[-1627 -1045  -911 -1135  -926 -1145  -213 -1213  -785  -841]\n",
      "[-698  307 -378 -502 -791 -716 -778 -799 -259 -592]\n",
      "[ -914 -1585  -618 -1384  -768 -1003   521 -1319  -987  -916]\n",
      "[ -490 -1275  -235 -1255    95 -1294  -366  -860  -847  -750]\n",
      "[  514 -1579 -1147  -986 -1218  -455  -972 -1145 -1197 -1259]\n",
      "[ -845 -1673 -1222  -342 -1066 -1053 -1658 -1095  -922  -979]\n",
      "[-1013  -870  -420  -559  -996 -1046 -1187   174  -711  -488]\n",
      "[-1049 -1424  -446 -1182  -497  -855   181 -1097  -984 -1075]\n",
      "[-435 -885  336 -721 -584 -872 -415 -695 -594 -972]\n",
      "[ -986 -1289 -1081 -1422  -962  -705 -1414 -1161  -479  -818]\n",
      "[-1316 -1524 -1248  -577 -1446  -761 -1800 -1108  -558 -1337]\n",
      "[-1123 -1320 -1270 -1469 -1191  -704 -1464  -973  -293  -983]\n",
      "[-1056   283  -523  -621  -938  -899  -903  -750  -474  -646]\n"
     ]
    }
   ],
   "source": [
    "for i in range(100):\n",
    "    weight = np.sum((X_train[i] != 0) * lulala, axis=1)\n",
    "    print(weight)"
   ]
  },
  {
   "cell_type": "code",
   "execution_count": 37,
   "metadata": {},
   "outputs": [
    {
     "data": {
      "text/plain": [
       "array([-596,  275, -459, -343, -556, -458, -473, -364, -441, -363])"
      ]
     },
     "execution_count": 37,
     "metadata": {},
     "output_type": "execute_result"
    }
   ],
   "source": [
    "weight"
   ]
  },
  {
   "cell_type": "code",
   "execution_count": 31,
   "metadata": {},
   "outputs": [
    {
     "data": {
      "text/plain": [
       "6"
      ]
     },
     "execution_count": 31,
     "metadata": {},
     "output_type": "execute_result"
    }
   ],
   "source": [
    "np.argmax(weight)"
   ]
  },
  {
   "cell_type": "code",
   "execution_count": 66,
   "metadata": {},
   "outputs": [],
   "source": [
    "count = 0\n",
    "s_count = 0\n",
    "dis = [{'a':0, 'b':0} for x in range(10)] # a为成功次数，b为总次数\n",
    "m1 = 0\n",
    "m2 = 0\n",
    "for data, lable in zip(X != 0, y):\n",
    "    count += 1\n",
    "    weight = np.sum((data != 0) * lulala, axis=1) + temp2\n",
    "    dis[int(lable)]['b'] += 1\n",
    "    if np.argmax(weight) == int(lable):\n",
    "        s_count += 1\n",
    "        dis[int(lable)]['a'] += 1\n",
    "    m1 = min(min(weight), m1)\n",
    "    m2 = max(max(weight), m2)"
   ]
  },
  {
   "cell_type": "code",
   "execution_count": 67,
   "metadata": {},
   "outputs": [
    {
     "data": {
      "text/plain": [
       "[0.9565406345067362,\n",
       " 0.9658499428716516,\n",
       " 0.8170243204577968,\n",
       " 0.848200532138356,\n",
       " 0.8396834701055099,\n",
       " 0.5997148740693806,\n",
       " 0.9272833042466551,\n",
       " 0.8859180035650623,\n",
       " 0.7529670329670329,\n",
       " 0.8176200057487784]"
      ]
     },
     "execution_count": 67,
     "metadata": {},
     "output_type": "execute_result"
    }
   ],
   "source": [
    "[x['a'] / x['b'] for x in dis]"
   ]
  },
  {
   "cell_type": "code",
   "execution_count": 68,
   "metadata": {},
   "outputs": [
    {
     "data": {
      "text/plain": [
       "0.8451428571428572"
      ]
     },
     "execution_count": 68,
     "metadata": {},
     "output_type": "execute_result"
    }
   ],
   "source": [
    "s_count / count"
   ]
  },
  {
   "cell_type": "code",
   "execution_count": 155,
   "metadata": {},
   "outputs": [
    {
     "data": {
      "text/plain": [
       "-2601151"
      ]
     },
     "execution_count": 155,
     "metadata": {},
     "output_type": "execute_result"
    }
   ],
   "source": [
    "m1"
   ]
  },
  {
   "cell_type": "code",
   "execution_count": 156,
   "metadata": {},
   "outputs": [
    {
     "data": {
      "text/plain": [
       "1015618"
      ]
     },
     "execution_count": 156,
     "metadata": {},
     "output_type": "execute_result"
    }
   ],
   "source": [
    "m2"
   ]
  },
  {
   "cell_type": "code",
   "execution_count": 101,
   "metadata": {},
   "outputs": [],
   "source": [
    "np.save(\"new_vector\", lulala)"
   ]
  },
  {
   "cell_type": "code",
   "execution_count": 6,
   "metadata": {},
   "outputs": [],
   "source": [
    "lulala = np.load(\"new_vector.npy\")"
   ]
  },
  {
   "cell_type": "code",
   "execution_count": 108,
   "metadata": {},
   "outputs": [
    {
     "data": {
      "text/plain": [
       "-51"
      ]
     },
     "execution_count": 108,
     "metadata": {},
     "output_type": "execute_result"
    }
   ],
   "source": [
    "np.min(vector)"
   ]
  },
  {
   "cell_type": "markdown",
   "metadata": {},
   "source": [
    "## 生成10 * 784数据\n",
    "1. 开头加上`v2.0 raw`\n",
    "2. 填充784个0，用来保存用户数据\n",
    "3. 开始填充10 * 784\n",
    "每一行填8个数字，按照16进制保存，每个数字之间空一个空格"
   ]
  },
  {
   "cell_type": "code",
   "execution_count": 38,
   "metadata": {},
   "outputs": [],
   "source": [
    "from itertools import chain"
   ]
  },
  {
   "cell_type": "code",
   "execution_count": 39,
   "metadata": {},
   "outputs": [],
   "source": [
    "# 可以处理负数的16进制转换函数\n",
    "def tohex(val, nbits):\n",
    "    return hex((val + (1 << nbits)) % (1 << nbits))"
   ]
  },
  {
   "cell_type": "code",
   "execution_count": 40,
   "metadata": {},
   "outputs": [],
   "source": [
    "with open(\"/home/samuel/大三下/组原课设/团队任务/raw_data.txt\", \"w\") as f:\n",
    "    f.write(\"v2.0 raw\\n\")\n",
    "    count = 0\n",
    "    for num in chain(np.zeros(784, dtype=int), lulala.reshape(-1)):\n",
    "        f.write(tohex(num, 32)[2:])\n",
    "        count += 1\n",
    "        if count == 8:\n",
    "            f.write(\"\\n\")\n",
    "            count = 0\n",
    "        else: \n",
    "            f.write(\" \")"
   ]
  },
  {
   "cell_type": "code",
   "execution_count": 116,
   "metadata": {},
   "outputs": [
    {
     "data": {
      "text/plain": [
       "'0'"
      ]
     },
     "execution_count": 116,
     "metadata": {},
     "output_type": "execute_result"
    }
   ],
   "source": [
    "hex(vector[0][10])[2:]"
   ]
  },
  {
   "cell_type": "code",
   "execution_count": 128,
   "metadata": {},
   "outputs": [
    {
     "data": {
      "text/plain": [
       "dtype('float64')"
      ]
     },
     "execution_count": 128,
     "metadata": {},
     "output_type": "execute_result"
    }
   ],
   "source": [
    "np.zeros(784)."
   ]
  },
  {
   "cell_type": "code",
   "execution_count": 52,
   "metadata": {},
   "outputs": [
    {
     "data": {
      "text/plain": [
       "array([-1, -1, -1, -2, -2, -3, -3, -3, -3, -2])"
      ]
     },
     "execution_count": 52,
     "metadata": {},
     "output_type": "execute_result"
    }
   ],
   "source": [
    "lulala.reshape(-1)[66:76]"
   ]
  },
  {
   "cell_type": "code",
   "execution_count": 72,
   "metadata": {},
   "outputs": [],
   "source": [
    "a = np.array([[1,2,3], [4,5,6]])"
   ]
  },
  {
   "cell_type": "code",
   "execution_count": 51,
   "metadata": {},
   "outputs": [
    {
     "data": {
      "text/plain": [
       "array([1, 2, 3, 4, 5, 6])"
      ]
     },
     "execution_count": 51,
     "metadata": {},
     "output_type": "execute_result"
    }
   ],
   "source": [
    "lulala[1]"
   ]
  },
  {
   "cell_type": "code",
   "execution_count": 73,
   "metadata": {},
   "outputs": [
    {
     "data": {
      "text/plain": [
       "array([ 6, 15])"
      ]
     },
     "execution_count": 73,
     "metadata": {},
     "output_type": "execute_result"
    }
   ],
   "source": [
    "np.sum(a, axis=1)"
   ]
  },
  {
   "cell_type": "code",
   "execution_count": 76,
   "metadata": {},
   "outputs": [
    {
     "data": {
      "text/plain": [
       "-1482"
      ]
     },
     "execution_count": 76,
     "metadata": {},
     "output_type": "execute_result"
    }
   ],
   "source": [
    "sum(lulala[0])"
   ]
  },
  {
   "cell_type": "code",
   "execution_count": 78,
   "metadata": {},
   "outputs": [
    {
     "data": {
      "text/plain": [
       "array([  0,   0,   0,   0,   0,   0,   0,   0,   0,   0,   0,   0,   0,\n",
       "         0,   0,   0,   0,   0,   0,   0,   0,   0,   0,   0,   0,   0,\n",
       "         0,   0,   0,   0,   0,   0,   0,   0,   0,   0,   0,   0,   0,\n",
       "         0,   0,   0,   0,   0,   0,   0,   0,   0,   0,   0,   0,   0,\n",
       "         0,   0,   0,   0,   0,   0,   0,   0,   0,   0,   0,   0,   0,\n",
       "         0,  -1,  -1,  -1,  -2,  -2,  -3,  -3,  -3,  -3,  -2,  -1,   0,\n",
       "         0,   0,   0,   0,   0,   0,   0,   0,   0,   0,   0,   0,   0,\n",
       "         0,  -1,  -2,  -3,  -4,  -5,  -6,  -8,  -9,  -9,  -9,  -8,  -6,\n",
       "        -4,  -2,  -1,   0,   0,   0,   0,   0,   0,   0,   0,   0,   0,\n",
       "         0,  -1,  -2,  -4,  -6,  -8,  -8,  -7,  -6,  -3,  -2,  -1,   0,\n",
       "        -1,  -2,  -3,  -3,  -2,  -2,  -1,   0,   0,   0,   0,   0,   0,\n",
       "         0,   0,  -1,  -3,  -5,  -7,  -9,  -9,  -8,  -4,  -1,   2,   5,\n",
       "         6,   7,   4,   1,   0,  -4,  -5,  -5,  -4,  -1,   0,   0,   0,\n",
       "         0,   0,   0,   0,  -2,  -4,  -7, -10, -10,  -9,  -6,  -3,   0,\n",
       "         2,   5,   7,   8,   8,   6,   1,  -2,  -5,  -6,  -7,  -3,  -1,\n",
       "         0,   0,   0,   0,   0,  -2,  -4,  -6,  -9, -10,  -9,  -8,  -4,\n",
       "        -1,   0,   2,   3,   5,   7,   8,   7,   3,   0,  -3,  -5,  -8,\n",
       "        -5,  -1,   0,   0,   0,   0,  -1,  -3,  -6,  -7,  -9,  -9,  -9,\n",
       "        -6,  -3,   0,   0,   0,   0,   2,   5,   7,   8,   7,   5,   1,\n",
       "        -1,  -6,  -5,  -1,   0,   0,   0,   0,  -2,  -4,  -5,  -7,  -7,\n",
       "        -7,  -5,  -3,   0,   0,   0,  -3,  -4,  -1,   0,   5,   8,  10,\n",
       "        11,   8,   5,  -2,  -4,  -1,   0,   0,   0,  -1,  -2,  -4,  -5,\n",
       "        -5,  -5,  -4,  -2,   0,   1,  -1,  -4,  -9, -12, -11,  -8,  -1,\n",
       "         6,  13,  16,  14,  12,   2,  -2,   0,   0,   0,   0,   0,  -2,\n",
       "        -4,  -3,  -1,  -1,   0,   1,   1,  -1,  -3,  -9, -16, -21, -21,\n",
       "       -18, -10,   1,  12,  19,  18,  16,   5,  -1,   0,   0,   0,   0,\n",
       "         0,  -1,  -3,   0,   2,   2,   3,   4,   1,  -2,  -7, -17, -26,\n",
       "       -31, -31, -29, -21,  -6,   8,  18,  21,  18,   7,   0,   0,   0,\n",
       "         0,   0,   0,  -1,  -1,   3,   6,   7,   7,   6,   0,  -5, -15,\n",
       "       -27, -36, -39, -40, -37, -28, -12,   4,  16,  20,  17,   7,   0,\n",
       "         0,   0,   0,   0,   0,  -1,   0,   6,   9,  11,  11,   6,   0,\n",
       "        -9, -22, -34, -41, -42, -42, -38, -28, -12,   3,  14,  17,  13,\n",
       "         6,   0,   0,   0,   0,   0,   0,  -1,   0,   8,  11,  14,  13,\n",
       "         8,   0, -13, -28, -39, -43, -44, -40, -31, -20,  -6,   5,  13,\n",
       "        13,  10,   4,   0,   0,   0,   0,   0,   0,  -1,   1,   9,  12,\n",
       "        16,  15,   8,  -2, -17, -31, -40, -43, -39, -32, -21, -12,  -1,\n",
       "         7,   9,   9,   7,   3,   0,   0,   0,   0,   0,   0,  -2,   1,\n",
       "         9,  12,  16,  16,   9,  -2, -17, -28, -36, -37, -29, -21, -12,\n",
       "        -5,   1,   6,   6,   4,   4,   1,   0,   0,   0,   0,   0,   0,\n",
       "        -3,   0,   7,  10,  14,  16,  10,   0, -12, -21, -26, -24, -19,\n",
       "       -13,  -7,  -1,   1,   2,   1,   1,   0,   0,   0,   0,   0,   0,\n",
       "         0,   0,  -3,   0,   5,   7,  11,  13,  11,   5,  -3, -10, -15,\n",
       "       -14, -10,  -7,  -4,  -1,  -1,  -2,  -1,  -1,  -1,   0,   0,   0,\n",
       "         0,   0,   0,   0,  -3,  -1,   2,   4,   8,  10,  10,   7,   2,\n",
       "        -2,  -6,  -7,  -6,  -5,  -3,  -3,  -4,  -5,  -3,  -3,  -2,  -1,\n",
       "         0,   0,   0,   0,   0,   0,  -2,  -2,   0,   2,   4,   7,   8,\n",
       "         6,   3,   0,  -3,  -4,  -3,  -3,  -3,  -5,  -6,  -5,  -4,  -3,\n",
       "        -2,  -1,   0,   0,   0,   0,   0,   0,  -1,  -1,   0,   1,   3,\n",
       "         6,   8,   8,   7,   4,   2,   2,   1,  -1,  -4,  -6,  -5,  -5,\n",
       "        -4,  -2,  -1,   0,   0,   0,   0,   0,   0,   0,   0,  -1,   0,\n",
       "         0,   2,   3,   6,   8,   8,   7,   5,   2,  -2,  -4,  -5,  -5,\n",
       "        -5,  -4,  -3,  -2,   0,   0,   0,   0,   0,   0,   0,   0,   0,\n",
       "         0,   0,  -1,  -2,  -3,  -4,  -6,  -6,  -7,  -8,  -8,  -8,  -8,\n",
       "        -7,  -5,  -4,  -3,  -1,  -1,   0,   0,   0,   0,   0,   0,   0,\n",
       "         0,   0,   0,   0,  -1,  -2,  -4,  -6,  -7,  -8,  -9,  -8,  -8,\n",
       "        -7,  -6,  -5,  -3,  -2,  -1,   0,   0,   0,   0,   0,   0,   0,\n",
       "         0,   0,   0,   0,   0,   0,   0,  -1,  -2,  -3,  -3,  -4,  -4,\n",
       "        -4,  -4,  -4,  -3,  -2,  -1,  -1,   0,   0,   0,   0,   0,   0,\n",
       "         0,   0,   0,   0,   0,   0,   0,   0,   0,   0,   0,   0,   0,\n",
       "         0,   0,  -1,  -1,  -1,  -1,   0,   0,   0,   0,   0,   0,   0,\n",
       "         0,   0,   0,   0])"
      ]
     },
     "execution_count": 78,
     "metadata": {},
     "output_type": "execute_result"
    }
   ],
   "source": [
    "lulala[0]"
   ]
  },
  {
   "cell_type": "code",
   "execution_count": null,
   "metadata": {},
   "outputs": [],
   "source": []
  }
 ],
 "metadata": {
  "kernelspec": {
   "display_name": "Data AnalysisOC",
   "language": "python",
   "name": "da"
  },
  "language_info": {
   "codemirror_mode": {
    "name": "ipython",
    "version": 3
   },
   "file_extension": ".py",
   "mimetype": "text/x-python",
   "name": "python",
   "nbconvert_exporter": "python",
   "pygments_lexer": "ipython3",
   "version": "3.6.10"
  }
 },
 "nbformat": 4,
 "nbformat_minor": 4
}
